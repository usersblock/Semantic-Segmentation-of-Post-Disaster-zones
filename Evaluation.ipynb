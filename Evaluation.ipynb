{
 "cells": [
  {
   "cell_type": "code",
   "execution_count": 1,
   "id": "e673c57b-346c-4fa0-a078-1c7304507be4",
   "metadata": {},
   "outputs": [],
   "source": [
    "import torch\n",
    "import torch.nn.functional as F\n",
    "from tqdm import tqdm\n",
    "from utils.data_loading import BasicDataset\n",
    "from utils.dice_score import multiclass_dice_coeff, dice_coeff\n",
    "from torch.utils.data import DataLoader, random_split\n",
    "from unet import UNet\n",
    "import os"
   ]
  },
  {
   "cell_type": "code",
   "execution_count": 2,
   "id": "d289aef0-ce0b-4e72-8598-07e151a16906",
   "metadata": {},
   "outputs": [],
   "source": [
    "def evaluate(net, dataloader, device):\n",
    "    net.eval()\n",
    "    num_val_batches = len(dataloader)\n",
    "    dice_score = 0\n",
    "\n",
    "    # iterate over the validation set\n",
    "    for batch in tqdm(dataloader, total=num_val_batches, desc='Validation round', unit='batch', leave=False):\n",
    "        image, mask_true = batch['image'], batch['mask']\n",
    "        # move images and labels to correct device and type\n",
    "        image = image.to(device=device, dtype=torch.float32)\n",
    "        mask_true = mask_true.to(device=device, dtype=torch.long)\n",
    "\n",
    "        mask_true = F.one_hot(mask_true, net.n_classes).permute(0,3, 1, 2).float()\n",
    "        with torch.no_grad():\n",
    "            # predict the mask\n",
    "            mask_pred = net(image)\n",
    "            # convert to one-hot format\n",
    "            if net.n_classes == 1:\n",
    "                mask_pred = (F.sigmoid(mask_pred) > 0.5).float()\n",
    "                # compute the Dice score\n",
    "                dice_score += dice_coeff(mask_pred, mask_true, reduce_batch_first=False)\n",
    "            else:\n",
    "                mask_pred = F.one_hot(mask_pred.argmax(dim=1), net.n_classes).permute(0,3, 1, 2).float()\n",
    "                # compute the Dice score, ignoring background\n",
    "                dice_score += multiclass_dice_coeff(mask_pred[:, 1:, ...], mask_true[:, 1:, ...], reduce_batch_first=False)\n",
    "\n",
    "           \n",
    "\n",
    "    net.train()\n",
    "\n",
    "    # Fixes a potential division by zero error\n",
    "    if num_val_batches == 0:\n",
    "        return dice_score\n",
    "    return dice_score / num_val_batches"
   ]
  },
  {
   "cell_type": "code",
   "execution_count": 3,
   "id": "4bab7689-5d44-4de1-8f4f-7674aa880ccb",
   "metadata": {},
   "outputs": [],
   "source": [
    "def evaluateloss(net, dataloader, device):\n",
    "    net.eval()\n",
    "    num_val_batches = len(dataloader)\n",
    "    dice_score = 0\n",
    "\n",
    "    # iterate over the validation set\n",
    "    for batch in tqdm(dataloader, total=num_val_batches, desc='Validation round', unit='batch', leave=False):\n",
    "        image, mask_true = batch['image'], batch['mask']\n",
    "        # move images and labels to correct device and type\n",
    "        image = image.to(device=device, dtype=torch.float32)\n",
    "        mask_true = mask_true.to(device=device, dtype=torch.long)\n",
    "        mask_true = F.one_hot(mask_true, net.n_classes).permute(0,3, 1, 2).float()\n",
    "        with torch.no_grad():\n",
    "            # predict the mask\n",
    "            mask_pred = net(image)\n",
    "            # convert to one-hot format\n",
    "            if net.n_classes == 1:\n",
    "                mask_pred = (F.sigmoid(mask_pred) > 0.5).float()\n",
    "                # compute the Dice score\n",
    "                dice_score += dice_coeff(mask_pred, mask_true, reduce_batch_first=False)\n",
    "            else:\n",
    "                mask_pred = F.one_hot(mask_pred.argmax(dim=1), net.n_classes).permute(0,3, 1, 2).float()\n",
    "                # compute the Dice score, ignoring background\n",
    "                dice_score += multiclass_dice_coeff(mask_pred[:, 1:, ...], mask_true[:, 1:, ...], reduce_batch_first=False)\n",
    "\n",
    "           \n",
    "\n",
    "    net.train()\n",
    "\n",
    "    # Fixes a potential division by zero error\n",
    "    if num_val_batches == 0:\n",
    "        return dice_score\n",
    "    return dice_score / num_val_batches"
   ]
  },
  {
   "cell_type": "code",
   "execution_count": 4,
   "id": "320be804-5f3f-491c-97ca-4416de7ce04f",
   "metadata": {},
   "outputs": [],
   "source": [
    "checkpointfol = '.\\\\checkpoints\\\\Base-UNET-Focal1LossRotate\\\\'\n",
    "dir_img = '.\\\\Dataset\\\\Validation\\\\Post\\\\Image512\\\\'\n",
    "dir_mask = '.\\\\Dataset\\\\Validation\\\\Post\\\\Label512\\\\'\n",
    "img_scale = 1\n",
    "classes = 5\n",
    "bilinear = False\n",
    "device = 'cuda'"
   ]
  },
  {
   "cell_type": "code",
   "execution_count": 5,
   "id": "806e0c2f-b97c-48dd-96a3-d258c27221fd",
   "metadata": {},
   "outputs": [],
   "source": [
    "dataset = BasicDataset(dir_img, dir_mask, img_scale,mask_suffix = '.png')"
   ]
  },
  {
   "cell_type": "code",
   "execution_count": 6,
   "id": "b40bc66b-8727-4638-8c27-bddcc49d45c8",
   "metadata": {},
   "outputs": [],
   "source": [
    "val_loader = DataLoader(dataset, shuffle=True,batch_size=1, num_workers=1, pin_memory=True)"
   ]
  },
  {
   "cell_type": "code",
   "execution_count": 7,
   "id": "76d40374-dece-4474-86b3-ae35a1487a98",
   "metadata": {},
   "outputs": [
    {
     "name": "stdout",
     "output_type": "stream",
     "text": [
      "loading.\\checkpoints\\Base-UNET-Focal1LossRotate\\checkpoint_epoch1.pth\n"
     ]
    },
    {
     "name": "stderr",
     "output_type": "stream",
     "text": [
      "                                                                                                                       \r"
     ]
    },
    {
     "name": "stdout",
     "output_type": "stream",
     "text": [
      "tensor(0.4561, device='cuda:0')\n",
      "loading.\\checkpoints\\Base-UNET-Focal1LossRotate\\checkpoint_epoch10.pth\n"
     ]
    },
    {
     "name": "stderr",
     "output_type": "stream",
     "text": [
      "                                                                                                                       \r"
     ]
    },
    {
     "name": "stdout",
     "output_type": "stream",
     "text": [
      "tensor(0.5987, device='cuda:0')\n",
      "loading.\\checkpoints\\Base-UNET-Focal1LossRotate\\checkpoint_epoch11.pth\n"
     ]
    },
    {
     "name": "stderr",
     "output_type": "stream",
     "text": [
      "                                                                                                                       \r"
     ]
    },
    {
     "name": "stdout",
     "output_type": "stream",
     "text": [
      "tensor(0.5905, device='cuda:0')\n",
      "loading.\\checkpoints\\Base-UNET-Focal1LossRotate\\checkpoint_epoch12.pth\n"
     ]
    },
    {
     "name": "stderr",
     "output_type": "stream",
     "text": [
      "                                                                                                                       \r"
     ]
    },
    {
     "name": "stdout",
     "output_type": "stream",
     "text": [
      "tensor(0.5983, device='cuda:0')\n",
      "loading.\\checkpoints\\Base-UNET-Focal1LossRotate\\checkpoint_epoch13.pth\n"
     ]
    },
    {
     "name": "stderr",
     "output_type": "stream",
     "text": [
      "                                                                                                                       \r"
     ]
    },
    {
     "name": "stdout",
     "output_type": "stream",
     "text": [
      "tensor(0.6001, device='cuda:0')\n",
      "loading.\\checkpoints\\Base-UNET-Focal1LossRotate\\checkpoint_epoch14.pth\n"
     ]
    },
    {
     "name": "stderr",
     "output_type": "stream",
     "text": [
      "                                                                                                                       \r"
     ]
    },
    {
     "name": "stdout",
     "output_type": "stream",
     "text": [
      "tensor(0.5991, device='cuda:0')\n",
      "loading.\\checkpoints\\Base-UNET-Focal1LossRotate\\checkpoint_epoch15.pth\n"
     ]
    },
    {
     "name": "stderr",
     "output_type": "stream",
     "text": [
      "                                                                                                                       \r"
     ]
    },
    {
     "name": "stdout",
     "output_type": "stream",
     "text": [
      "tensor(0.5986, device='cuda:0')\n",
      "loading.\\checkpoints\\Base-UNET-Focal1LossRotate\\checkpoint_epoch16.pth\n"
     ]
    },
    {
     "name": "stderr",
     "output_type": "stream",
     "text": [
      "                                                                                                                       \r"
     ]
    },
    {
     "name": "stdout",
     "output_type": "stream",
     "text": [
      "tensor(0.5992, device='cuda:0')\n",
      "loading.\\checkpoints\\Base-UNET-Focal1LossRotate\\checkpoint_epoch17.pth\n"
     ]
    },
    {
     "name": "stderr",
     "output_type": "stream",
     "text": [
      "                                                                                                                       \r"
     ]
    },
    {
     "name": "stdout",
     "output_type": "stream",
     "text": [
      "tensor(0.6024, device='cuda:0')\n",
      "loading.\\checkpoints\\Base-UNET-Focal1LossRotate\\checkpoint_epoch18.pth\n"
     ]
    },
    {
     "name": "stderr",
     "output_type": "stream",
     "text": [
      "                                                                                                                       \r"
     ]
    },
    {
     "name": "stdout",
     "output_type": "stream",
     "text": [
      "tensor(0.6067, device='cuda:0')\n",
      "loading.\\checkpoints\\Base-UNET-Focal1LossRotate\\checkpoint_epoch19.pth\n"
     ]
    },
    {
     "name": "stderr",
     "output_type": "stream",
     "text": [
      "                                                                                                                       \r"
     ]
    },
    {
     "name": "stdout",
     "output_type": "stream",
     "text": [
      "tensor(0.5971, device='cuda:0')\n",
      "loading.\\checkpoints\\Base-UNET-Focal1LossRotate\\checkpoint_epoch2.pth\n"
     ]
    },
    {
     "name": "stderr",
     "output_type": "stream",
     "text": [
      "                                                                                                                       \r"
     ]
    },
    {
     "name": "stdout",
     "output_type": "stream",
     "text": [
      "tensor(0.5922, device='cuda:0')\n",
      "loading.\\checkpoints\\Base-UNET-Focal1LossRotate\\checkpoint_epoch20.pth\n"
     ]
    },
    {
     "name": "stderr",
     "output_type": "stream",
     "text": [
      "                                                                                                                       \r"
     ]
    },
    {
     "name": "stdout",
     "output_type": "stream",
     "text": [
      "tensor(0.5978, device='cuda:0')\n",
      "loading.\\checkpoints\\Base-UNET-Focal1LossRotate\\checkpoint_epoch21.pth\n"
     ]
    },
    {
     "name": "stderr",
     "output_type": "stream",
     "text": [
      "                                                                                                                       \r"
     ]
    },
    {
     "name": "stdout",
     "output_type": "stream",
     "text": [
      "tensor(0.6014, device='cuda:0')\n",
      "loading.\\checkpoints\\Base-UNET-Focal1LossRotate\\checkpoint_epoch22.pth\n"
     ]
    },
    {
     "name": "stderr",
     "output_type": "stream",
     "text": [
      "                                                                                                                       \r"
     ]
    },
    {
     "name": "stdout",
     "output_type": "stream",
     "text": [
      "tensor(0.5986, device='cuda:0')\n",
      "loading.\\checkpoints\\Base-UNET-Focal1LossRotate\\checkpoint_epoch3.pth\n"
     ]
    },
    {
     "name": "stderr",
     "output_type": "stream",
     "text": [
      "                                                                                                                       \r"
     ]
    },
    {
     "name": "stdout",
     "output_type": "stream",
     "text": [
      "tensor(0.5831, device='cuda:0')\n",
      "loading.\\checkpoints\\Base-UNET-Focal1LossRotate\\checkpoint_epoch4.pth\n"
     ]
    },
    {
     "name": "stderr",
     "output_type": "stream",
     "text": [
      "                                                                                                                       \r"
     ]
    },
    {
     "name": "stdout",
     "output_type": "stream",
     "text": [
      "tensor(0.5942, device='cuda:0')\n",
      "loading.\\checkpoints\\Base-UNET-Focal1LossRotate\\checkpoint_epoch5.pth\n"
     ]
    },
    {
     "name": "stderr",
     "output_type": "stream",
     "text": [
      "                                                                                                                       \r"
     ]
    },
    {
     "name": "stdout",
     "output_type": "stream",
     "text": [
      "tensor(0.5932, device='cuda:0')\n",
      "loading.\\checkpoints\\Base-UNET-Focal1LossRotate\\checkpoint_epoch6.pth\n"
     ]
    },
    {
     "name": "stderr",
     "output_type": "stream",
     "text": [
      "                                                                                                                       \r"
     ]
    },
    {
     "name": "stdout",
     "output_type": "stream",
     "text": [
      "tensor(0.5952, device='cuda:0')\n",
      "loading.\\checkpoints\\Base-UNET-Focal1LossRotate\\checkpoint_epoch7.pth\n"
     ]
    },
    {
     "name": "stderr",
     "output_type": "stream",
     "text": [
      "                                                                                                                       \r"
     ]
    },
    {
     "name": "stdout",
     "output_type": "stream",
     "text": [
      "tensor(0.5960, device='cuda:0')\n",
      "loading.\\checkpoints\\Base-UNET-Focal1LossRotate\\checkpoint_epoch8.pth\n"
     ]
    },
    {
     "name": "stderr",
     "output_type": "stream",
     "text": [
      "                                                                                                                       \r"
     ]
    },
    {
     "name": "stdout",
     "output_type": "stream",
     "text": [
      "tensor(0.5967, device='cuda:0')\n",
      "loading.\\checkpoints\\Base-UNET-Focal1LossRotate\\checkpoint_epoch9.pth\n"
     ]
    },
    {
     "name": "stderr",
     "output_type": "stream",
     "text": [
      "                                                                                                                       "
     ]
    },
    {
     "name": "stdout",
     "output_type": "stream",
     "text": [
      "tensor(0.5969, device='cuda:0')\n"
     ]
    },
    {
     "name": "stderr",
     "output_type": "stream",
     "text": [
      "\r"
     ]
    }
   ],
   "source": [
    "ch_list = []\n",
    "result = []\n",
    "for filename in os.listdir(checkpointfol):\n",
    "    if filename.endswith('.pth'):\n",
    "        ch_list.append(checkpointfol+filename)\n",
    "for i in range(len(ch_list)):\n",
    "    print('loading' + ch_list[i])\n",
    "    net = UNet(n_channels=3, n_classes = classes, bilinear=bilinear)\n",
    "    net.load_state_dict(torch.load(ch_list[i], map_location=device))\n",
    "    net.to(device=device)\n",
    "    result.append(evaluate(net,val_loader,device))\n",
    "    print(result[i])"
   ]
  },
  {
   "cell_type": "code",
   "execution_count": 8,
   "id": "83e4d74a-2e2c-4496-9915-11c858d8e7e4",
   "metadata": {},
   "outputs": [
    {
     "data": {
      "text/plain": [
       "[tensor(0.4561, device='cuda:0'),\n",
       " tensor(0.5987, device='cuda:0'),\n",
       " tensor(0.5905, device='cuda:0'),\n",
       " tensor(0.5983, device='cuda:0'),\n",
       " tensor(0.6001, device='cuda:0'),\n",
       " tensor(0.5991, device='cuda:0'),\n",
       " tensor(0.5986, device='cuda:0'),\n",
       " tensor(0.5992, device='cuda:0'),\n",
       " tensor(0.6024, device='cuda:0'),\n",
       " tensor(0.6067, device='cuda:0'),\n",
       " tensor(0.5971, device='cuda:0'),\n",
       " tensor(0.5922, device='cuda:0'),\n",
       " tensor(0.5978, device='cuda:0'),\n",
       " tensor(0.6014, device='cuda:0'),\n",
       " tensor(0.5986, device='cuda:0'),\n",
       " tensor(0.5831, device='cuda:0'),\n",
       " tensor(0.5942, device='cuda:0'),\n",
       " tensor(0.5932, device='cuda:0'),\n",
       " tensor(0.5952, device='cuda:0'),\n",
       " tensor(0.5960, device='cuda:0'),\n",
       " tensor(0.5967, device='cuda:0'),\n",
       " tensor(0.5969, device='cuda:0')]"
      ]
     },
     "execution_count": 8,
     "metadata": {},
     "output_type": "execute_result"
    }
   ],
   "source": [
    "result"
   ]
  },
  {
   "cell_type": "code",
   "execution_count": null,
   "id": "49621ca6-4da1-4a9b-a86c-644fd8079977",
   "metadata": {},
   "outputs": [],
   "source": []
  }
 ],
 "metadata": {
  "kernelspec": {
   "display_name": "Python 3 (ipykernel)",
   "language": "python",
   "name": "python3"
  },
  "language_info": {
   "codemirror_mode": {
    "name": "ipython",
    "version": 3
   },
   "file_extension": ".py",
   "mimetype": "text/x-python",
   "name": "python",
   "nbconvert_exporter": "python",
   "pygments_lexer": "ipython3",
   "version": "3.10.2"
  }
 },
 "nbformat": 4,
 "nbformat_minor": 5
}
