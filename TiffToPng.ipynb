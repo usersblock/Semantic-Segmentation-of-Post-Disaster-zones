{
 "cells": [
  {
   "cell_type": "code",
   "execution_count": 1,
   "id": "2322f57f-4f8f-43de-a8e8-23f4fcfaf6ef",
   "metadata": {},
   "outputs": [],
   "source": [
    "import tifffile as tiff\n",
    "import numpy as np\n",
    "import PIL\n",
    "import os\n",
    "import PIL.ImageDraw as ImageDraw\n",
    "import PIL.Image as Image\n",
    "import matplotlib.pyplot as plt\n",
    "from tqdm import tqdm"
   ]
  },
  {
   "cell_type": "code",
   "execution_count": 2,
   "id": "3f6917b3-d470-4999-a9c7-85fb00c0ba43",
   "metadata": {},
   "outputs": [],
   "source": [
    "inputfol = [\"./xview2_geotiff/geotiffs/hold/images/\",\"./xview2_geotiff/geotiffs/test/images/\",\"./xview2_geotiff/geotiffs/tier1/images/\",\"./xview2_geotiff/geotiffs/tier3/images/\"]\n",
    "outputpostfol = [\"./Dataset/Validation/Post/Image512/\",\"./Dataset/Test/Post/Image512/\",\"./Dataset/Tier1/Post/Image512/\",\"./Dataset/Tier3/Post/Image512/\"]\n",
    "outputprefol = [\"./Dataset/Validation/Pre/Image512/\",\"./Dataset/Test/Pre/Image512/\",\"./Dataset/Tier1/Pre/Image512/\",\"./Dataset/Tier3/Pre/Image512/\"]"
   ]
  },
  {
   "cell_type": "code",
   "execution_count": 3,
   "id": "c5ec04dd-6d06-4940-9618-7d9548549a3f",
   "metadata": {},
   "outputs": [],
   "source": [
    "def createimages(inputfol,outputpostfol,outputprefol,size):\n",
    "    for i in range(len(inputfol)):\n",
    "        inputpath = inputfol[i]\n",
    "        outputpost = outputpostfol[i]\n",
    "        outputpre = outputprefol[i]\n",
    "        for root, dirs, files in os.walk(inputpath, topdown=False):\n",
    "            with tqdm(total=len(files), desc='Saving to ' + outputpost + ' and ' + outputpre, unit='img') as pbar:\n",
    "                for name in files:\n",
    "                    if('pre_disaster' in name):\n",
    "                        outfile = os.path.splitext(os.path.join(outputpre, name))[0] + \".png\"\n",
    "                        im = tiff.imread(os.path.join(root, name))\n",
    "                        ima = im.astype(dtype=np.uint8)\n",
    "                        imarray = Image.fromarray(ima)\n",
    "                        imarray = imarray.resize(size,PIL.Image.NEAREST)\n",
    "                        imarray.save(outfile, \"PNG\", quality=100)\n",
    "                    if('post_disaster' in name):\n",
    "                        outfile = os.path.splitext(os.path.join(outputpost, name))[0] + \".png\"\n",
    "                        im = tiff.imread(os.path.join(root, name))\n",
    "                        ima = im.astype(dtype=np.uint8)\n",
    "                        imarray = Image.fromarray(ima)\n",
    "                        imarray = imarray.resize(size,PIL.Image.NEAREST)\n",
    "                        imarray.save(outfile, \"PNG\", quality=100)\n",
    "                    pbar.update(1)"
   ]
  },
  {
   "cell_type": "code",
   "execution_count": 5,
   "id": "c0850049-2353-4fc7-b67d-f2039b2cdf59",
   "metadata": {},
   "outputs": [
    {
     "name": "stderr",
     "output_type": "stream",
     "text": [
      "Saving to ./Dataset/Validation/Post/Image512/ and ./Dataset/Validation/Pre/Image512/: 100%|█| 1866/1866 [02:21<00:00, 1\n",
      "Saving to ./Dataset/Test/Post/Image512/ and ./Dataset/Test/Pre/Image512/: 100%|███| 1866/1866 [02:22<00:00, 13.13img/s]\n",
      "Saving to ./Dataset/Tier1/Post/Image512/ and ./Dataset/Tier1/Pre/Image512/: 100%|█| 5598/5598 [07:02<00:00, 13.26img/s]\n",
      "Saving to ./Dataset/Tier3/Post/Image512/ and ./Dataset/Tier3/Pre/Image512/: 100%|█| 12738/12738 [16:06<00:00, 13.18img/\n"
     ]
    }
   ],
   "source": [
    "createimages(inputfol,outputpostfol,outputprefol,(512,512))"
   ]
  },
  {
   "cell_type": "code",
   "execution_count": null,
   "id": "07c1a989-7818-46a7-8afb-1743e889692b",
   "metadata": {},
   "outputs": [],
   "source": []
  }
 ],
 "metadata": {
  "kernelspec": {
   "display_name": "Python 3 (ipykernel)",
   "language": "python",
   "name": "python3"
  },
  "language_info": {
   "codemirror_mode": {
    "name": "ipython",
    "version": 3
   },
   "file_extension": ".py",
   "mimetype": "text/x-python",
   "name": "python",
   "nbconvert_exporter": "python",
   "pygments_lexer": "ipython3",
   "version": "3.10.2"
  }
 },
 "nbformat": 4,
 "nbformat_minor": 5
}
