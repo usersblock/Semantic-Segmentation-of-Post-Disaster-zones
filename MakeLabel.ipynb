{
 "cells": [
  {
   "cell_type": "code",
   "execution_count": 33,
   "id": "d157a395-6cf4-44c1-8b99-9b035f246c1b",
   "metadata": {},
   "outputs": [],
   "source": [
    "import os\n",
    "import json\n",
    "from geomet import wkt\n",
    "import PIL.ImageDraw as ImageDraw\n",
    "import PIL.Image as Image\n",
    "from tqdm import tqdm\n",
    "from pathlib import Path\n",
    "import tifffile as tiff\n",
    "import numpy as np\n",
    "import PIL\n",
    "import PIL.ImageDraw as ImageDraw\n",
    "import PIL.Image as Image"
   ]
  },
  {
   "cell_type": "code",
   "execution_count": 2,
   "id": "37dfbf1c-d480-4d89-ab77-acebb43e4423",
   "metadata": {},
   "outputs": [],
   "source": [
    "def createdirectory():\n",
    "    pathstring = \"./Dataset\"\n",
    "    for i in [\"/Image\",\"/Label\"]:\n",
    "        for j in [\"/Pre\",\"/Post\"]:\n",
    "            for k in [\"/Tier1\",\"/Tier3\",\"/Hold\",\"/Test\"]:\n",
    "                Path(pathstring+i+j+k).mkdir(parents=True, exist_ok=True)\n",
    "                print(pathstring+i+j+k)"
   ]
  },
  {
   "cell_type": "code",
   "execution_count": 3,
   "id": "501e9db9-6122-4184-a107-ac5218c95103",
   "metadata": {},
   "outputs": [],
   "source": [
    "inputfol = [\"./Dataset/xview2_geotiff/geotiffs/hold/labels/\",\"./Dataset/xview2_geotiff/geotiffs/test/labels/\",\"./Dataset/xview2_geotiff/geotiffs/tier1/labels/\",\"./Dataset/xview2_geotiff/geotiffs/tier3/labels/\"]\n",
    "outputpostfol = [\"./Dataset/Validation/Post/Label512/\",\"./Dataset/Test/Post/Label512/\",\"./Dataset/Tier1/Post/Label512/\",\"./Dataset/Tier3/Post/Label512/\"]\n",
    "outputprefol = [\"./Dataset/Validation/Pre/Label512/\",\"./Dataset/Test/Pre/Label512/\",\"./Dataset/Tier1/Pre/Label512/\",\"./Dataset/Tier3/Pre/Label512/\"]"
   ]
  },
  {
   "cell_type": "code",
   "execution_count": 21,
   "id": "b56d0a29-d3f5-4fe5-9a5b-318caca84063",
   "metadata": {},
   "outputs": [],
   "source": [
    "def createlabels(size):\n",
    "    geopath = \"./Dataset/xview2_geotiff/geotiffs\"\n",
    "    outputpath = \"./Dataset/Label\"\n",
    "    inputpath = [\"/hold/labels/\",\"/test/labels/\",\"/tier1/labels/\",\"/tier3/labels/\"]\n",
    "    outputpost = [\"/Post/Hold/\",\"/Post/Test/\",\"/Post/Tier1/\",\"/Post/Tier3/\"]\n",
    "    outputpre = [\"/Pre/Hold/\",\"/Pre/Test/\",\"/Pre/Tier1/\",\"/Pre/Tier3/\"]\n",
    "    json_list = []\n",
    "    for i in range(4):\n",
    "        for filename in os.listdir(geopath+inputpath[i]):\n",
    "            if filename.endswith('.json'):\n",
    "                data = open(geopath + inputpath[i] + filename)\n",
    "                json_list.append((json.load(data),filename))\n",
    "        pre = outputpath + outputpre[i]\n",
    "        post = outputpath + outputpost[i]\n",
    "        with tqdm(total=len(json_list), desc='Saving to ' + pre + ' and ' + post, unit='img') as pbar:\n",
    "            for js in json_list:\n",
    "                width = js[0]['metadata']['width']\n",
    "                height = js[0]['metadata']['height']\n",
    "                image = Image.new(\"L\", (width, height), color = (0))\n",
    "                draw = ImageDraw.Draw(image)\n",
    "                if('pre_disaster' in js[1]):\n",
    "                    for j in js[0]['features']['xy']:\n",
    "                        polygonlist = wkt.loads(j['wkt'])\n",
    "                        polygontuples = [(x,y) for x,y in polygonlist['coordinates'][0]]\n",
    "                        draw.polygon((polygontuples), fill=(1))\n",
    "                    image = image.resize(size,Image.NEAREST)\n",
    "                    image.save(pre+js[1].split('.')[0] + '.png')\n",
    "                if('post_disaster' in js[1]):\n",
    "                    for j in js[0]['features']['xy']:\n",
    "                        subtype = j['properties']['subtype']\n",
    "                        fill = (0)\n",
    "                        polygonlist = wkt.loads(j['wkt'])\n",
    "                        polygontuples = [(x,y) for x,y in polygonlist['coordinates'][0]]\n",
    "                        match subtype:\n",
    "                            case \"no-damage\":\n",
    "                                fill = (1)\n",
    "                            case \"minor-damage\":\n",
    "                                fill = (2)\n",
    "                            case \"major-damage\":\n",
    "                                fill = (3)\n",
    "                            case \"destroyed\":\n",
    "                                fill = (4)\n",
    "                            case _:\n",
    "                                fill = (0)\n",
    "                        draw.polygon((polygontuples), fill=fill)\n",
    "                    image = image.resize(size,Image.NEAREST)\n",
    "                    image.save(post+js[1].split('.')[0] + '.png')\n",
    "                pbar.update(1)"
   ]
  },
  {
   "cell_type": "code",
   "execution_count": 22,
   "id": "118dc669-6478-4150-b39e-f6bc381a7c44",
   "metadata": {},
   "outputs": [
    {
     "name": "stderr",
     "output_type": "stream",
     "text": [
      "Saving to ./Dataset/Label/Pre/Hold/ and ./Dataset/Label/Post/Hold/: 100%|█████████| 1866/1866 [00:25<00:00, 72.48img/s]\n",
      "Saving to ./Dataset/Label/Pre/Test/ and ./Dataset/Label/Post/Test/: 100%|█████████| 3732/3732 [00:49<00:00, 75.75img/s]\n",
      "Saving to ./Dataset/Label/Pre/Tier1/ and ./Dataset/Label/Post/Tier1/: 100%|███████| 9330/9330 [02:02<00:00, 76.37img/s]\n",
      "Saving to ./Dataset/Label/Pre/Tier3/ and ./Dataset/Label/Post/Tier3/: 100%|████| 22068/22068 [03:22<00:00, 108.83img/s]\n"
     ]
    }
   ],
   "source": [
    "createlabels((512,512))"
   ]
  },
  {
   "cell_type": "code",
   "execution_count": 40,
   "id": "f919b0c4-70e6-4fa8-aa90-98bd628f91bb",
   "metadata": {},
   "outputs": [],
   "source": [
    "def createpngs(size):\n",
    "    geopath = \"./Dataset/xview2_geotiff/geotiffs\"\n",
    "    outputpath = \"./Dataset/Image\"\n",
    "    inputpath = [\"/hold/images/\",\"/test/images/\",\"/tier1/images/\",\"/tier3/images/\"]\n",
    "    outputpost = [\"/Post/Hold/\",\"/Post/Test/\",\"/Post/Tier1/\",\"/Post/Tier3/\"]\n",
    "    outputpre = [\"/Pre/Hold/\",\"/Pre/Test/\",\"/Pre/Tier1/\",\"/Pre/Tier3/\"]\n",
    "    for i in range(4):\n",
    "        img_list = []\n",
    "        for filename in os.listdir(geopath+inputpath[i]):\n",
    "            img_list.append(filename)\n",
    "        pre = outputpath + outputpre[i]\n",
    "        post = outputpath + outputpost[i]\n",
    "        with tqdm(total=len(img_list), desc='Saving to ' + pre + ' and ' + post, unit='img') as pbar:\n",
    "            for img in img_list:\n",
    "                if('pre_disaster' in img):           \n",
    "                    im = tiff.imread(geopath + inputpath[i] + img)\n",
    "                    ima = im.astype(dtype=np.uint8)\n",
    "                    imarray = Image.fromarray(ima)\n",
    "                    imarray = imarray.resize(size,PIL.Image.NEAREST)\n",
    "                    imarray.save(pre + img.split(\".\")[0] + \".png\", \"PNG\", quality=100)\n",
    "                if('post_disaster' in img):\n",
    "                    im = tiff.imread(geopath + inputpath[i] + img)\n",
    "                    ima = im.astype(dtype=np.uint8)\n",
    "                    imarray = Image.fromarray(ima)\n",
    "                    imarray = imarray.resize(size,PIL.Image.NEAREST)\n",
    "                    imarray.save(post + img.split(\".\")[0] + \".png\", \"PNG\", quality=100)\n",
    "                pbar.update(1)"
   ]
  },
  {
   "cell_type": "code",
   "execution_count": 41,
   "id": "5a19715d-4f5a-4deb-b157-3733df359e62",
   "metadata": {},
   "outputs": [
    {
     "name": "stderr",
     "output_type": "stream",
     "text": [
      "Saving to ./Dataset/Image/Pre/Hold/ and ./Dataset/Image/Post/Hold/: 100%|█████████| 1866/1866 [02:49<00:00, 11.00img/s]\n",
      "Saving to ./Dataset/Image/Pre/Test/ and ./Dataset/Image/Post/Test/: 100%|█████████| 1866/1866 [02:43<00:00, 11.43img/s]\n",
      "Saving to ./Dataset/Image/Pre/Tier1/ and ./Dataset/Image/Post/Tier1/: 100%|███████| 5598/5598 [08:12<00:00, 11.37img/s]\n",
      "Saving to ./Dataset/Image/Pre/Tier3/ and ./Dataset/Image/Post/Tier3/: 100%|█████| 12738/12738 [19:14<00:00, 11.03img/s]\n"
     ]
    }
   ],
   "source": [
    "createpngs((512,512))"
   ]
  },
  {
   "cell_type": "code",
   "execution_count": null,
   "id": "745611ce-f495-4e09-8cbc-cb938fa24221",
   "metadata": {},
   "outputs": [],
   "source": []
  }
 ],
 "metadata": {
  "kernelspec": {
   "display_name": "Python 3 (ipykernel)",
   "language": "python",
   "name": "python3"
  },
  "language_info": {
   "codemirror_mode": {
    "name": "ipython",
    "version": 3
   },
   "file_extension": ".py",
   "mimetype": "text/x-python",
   "name": "python",
   "nbconvert_exporter": "python",
   "pygments_lexer": "ipython3",
   "version": "3.10.2"
  }
 },
 "nbformat": 4,
 "nbformat_minor": 5
}
