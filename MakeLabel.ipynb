{
 "cells": [
  {
   "cell_type": "code",
   "execution_count": 5,
   "id": "d157a395-6cf4-44c1-8b99-9b035f246c1b",
   "metadata": {},
   "outputs": [],
   "source": [
    "import numpy as np\n",
    "import PIL\n",
    "import os\n",
    "import glob\n",
    "import json\n",
    "from geomet import wkt\n",
    "import PIL.ImageDraw as ImageDraw\n",
    "import PIL.Image as Image\n",
    "import matplotlib.pyplot as plt\n",
    "from tqdm import tqdm\n"
   ]
  },
  {
   "cell_type": "code",
   "execution_count": 6,
   "id": "501e9db9-6122-4184-a107-ac5218c95103",
   "metadata": {},
   "outputs": [],
   "source": [
    "inputfol = [\"./xview2_geotiff/geotiffs/hold/labels/\",\"./xview2_geotiff/geotiffs/test/labels/\",\"./xview2_geotiff/geotiffs/tier1/labels/\",\"./xview2_geotiff/geotiffs/tier3/labels/\"]\n",
    "outputpostfol = [\"./Dataset/Validation/Post/Label512/\",\"./Dataset/Test/Post/Label512/\",\"./Dataset/Tier1/Post/Label512/\",\"./Dataset/Tier3/Post/Label512/\"]\n",
    "outputprefol = [\"./Dataset/Validation/Pre/Label512/\",\"./Dataset/Test/Pre/Label512/\",\"./Dataset/Tier1/Pre/Label512/\",\"./Dataset/Tier3/Pre/Label512/\"]"
   ]
  },
  {
   "cell_type": "code",
   "execution_count": 7,
   "id": "b56d0a29-d3f5-4fe5-9a5b-318caca84063",
   "metadata": {},
   "outputs": [],
   "source": [
    "def createlabels(inputfol,outputpostfol,outputprefol,size):\n",
    "    for i in range(len(inputfol)):\n",
    "        inputpath = inputfol[i]\n",
    "        outputpost = outputpostfol[i]\n",
    "        outputpre = outputprefol[i]\n",
    "        json_list = []\n",
    "        for filename in os.listdir(inputpath):\n",
    "            if filename.endswith('.json'):\n",
    "                data = open(inputpath + filename)\n",
    "                json_list.append((json.load(data),filename))\n",
    "        with tqdm(total=len(json_list), desc='Saving to ' + outputpost + ' and ' + outputpre, unit='img') as pbar:\n",
    "            for js in json_list:\n",
    "                width = js[0]['metadata']['width']\n",
    "                height = js[0]['metadata']['height']\n",
    "                image = Image.new(\"L\", (width, height), color = (0))\n",
    "                draw = ImageDraw.Draw(image)\n",
    "                if('pre_disaster' in js[1]):\n",
    "                    for j in js[0]['features']['xy']:\n",
    "                        polygonlist = wkt.loads(j['wkt'])\n",
    "                        polygontuples = [(x,y) for x,y in polygonlist['coordinates'][0]]\n",
    "                        draw.polygon((polygontuples), fill=(1))\n",
    "                    image = image.resize(size,PIL.Image.NEAREST)\n",
    "                    image.save(outputpre+js[1].split('.')[0] + '.png')\n",
    "                if('post_disaster' in js[1]):\n",
    "                    for j in js[0]['features']['xy']:\n",
    "                        subtype = j['properties']['subtype']\n",
    "                        fill = (0)\n",
    "                        polygonlist = wkt.loads(j['wkt'])\n",
    "                        polygontuples = [(x,y) for x,y in polygonlist['coordinates'][0]]\n",
    "                        match subtype:\n",
    "                            case \"no-damage\":\n",
    "                                fill = (1)\n",
    "                            case \"minor-damage\":\n",
    "                                fill = (2)\n",
    "                            case \"major-damage\":\n",
    "                                fill = (3)\n",
    "                            case \"destroyed\":\n",
    "                                fill = (4)\n",
    "                            case _:\n",
    "                                fill = (0)\n",
    "                        draw.polygon((polygontuples), fill=fill)\n",
    "                    image = image.resize(size,PIL.Image.NEAREST)\n",
    "                    image.save(outputpost+js[1].split('.')[0] + '.png')\n",
    "                pbar.update(1)"
   ]
  },
  {
   "cell_type": "code",
   "execution_count": 8,
   "id": "118dc669-6478-4150-b39e-f6bc381a7c44",
   "metadata": {},
   "outputs": [
    {
     "name": "stderr",
     "output_type": "stream",
     "text": [
      "Saving to ./Dataset/Validation/Post/Label512/ and ./Dataset/Validation/Pre/Label512/: 100%|█| 1866/1866 [00:24<00:00, 7\n",
      "Saving to ./Dataset/Test/Post/Label512/ and ./Dataset/Test/Pre/Label512/: 100%|███| 1866/1866 [00:23<00:00, 79.33img/s]\n",
      "Saving to ./Dataset/Tier1/Post/Label512/ and ./Dataset/Tier1/Pre/Label512/: 100%|█| 5598/5598 [01:11<00:00, 78.55img/s]\n",
      "Saving to ./Dataset/Tier3/Post/Label512/ and ./Dataset/Tier3/Pre/Label512/: 100%|█| 12738/12738 [01:23<00:00, 152.31img\n"
     ]
    }
   ],
   "source": [
    "createlabels(inputfol,outputpostfol,outputprefol,(512,512))"
   ]
  },
  {
   "cell_type": "code",
   "execution_count": null,
   "id": "f919b0c4-70e6-4fa8-aa90-98bd628f91bb",
   "metadata": {},
   "outputs": [],
   "source": []
  }
 ],
 "metadata": {
  "kernelspec": {
   "display_name": "Python 3 (ipykernel)",
   "language": "python",
   "name": "python3"
  },
  "language_info": {
   "codemirror_mode": {
    "name": "ipython",
    "version": 3
   },
   "file_extension": ".py",
   "mimetype": "text/x-python",
   "name": "python",
   "nbconvert_exporter": "python",
   "pygments_lexer": "ipython3",
   "version": "3.10.2"
  }
 },
 "nbformat": 4,
 "nbformat_minor": 5
}
